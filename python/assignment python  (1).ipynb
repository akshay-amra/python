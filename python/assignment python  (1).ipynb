{
 "cells": [
  {
   "cell_type": "code",
   "execution_count": null,
   "metadata": {},
   "outputs": [],
   "source": []
  },
  {
   "cell_type": "code",
   "execution_count": 1,
   "metadata": {},
   "outputs": [],
   "source": [
    "#task2\n",
    "class nthroot:\n",
    "    def __init__(self,num1,num2):\n",
    "        self.num1=num1\n",
    "        self.num2=num2\n",
    "    def nth_root(self):\n",
    "        return self.num1**(1/self.num2)"
   ]
  },
  {
   "cell_type": "code",
   "execution_count": 2,
   "metadata": {},
   "outputs": [],
   "source": [
    "t=nthroot(84,3)"
   ]
  },
  {
   "cell_type": "code",
   "execution_count": 3,
   "metadata": {},
   "outputs": [
    {
     "data": {
      "text/plain": [
       "4.379519139887889"
      ]
     },
     "execution_count": 3,
     "metadata": {},
     "output_type": "execute_result"
    }
   ],
   "source": [
    "t.nth_root()"
   ]
  },
  {
   "cell_type": "code",
   "execution_count": 1,
   "metadata": {},
   "outputs": [
    {
     "name": "stdout",
     "output_type": "stream",
     "text": [
      "h\n",
      "he\n",
      "hel\n",
      "hel\n",
      "helo\n",
      "g\n",
      "go\n",
      "go\n",
      "god\n"
     ]
    }
   ],
   "source": [
    "#task1\n",
    "def removeDuplicate(str):\n",
    "    t=\"\" \n",
    "    for i in str: \n",
    "        if(i in t): \n",
    "            pass\n",
    "        else: \n",
    "            t=t+i \n",
    "        print(t) \n",
    "      \n",
    "str=\"hello\"\n",
    "str1='good'\n",
    "removeDuplicate(str) \n",
    "removeDuplicate(str1)"
   ]
  },
  {
   "cell_type": "code",
   "execution_count": 6,
   "metadata": {},
   "outputs": [
    {
     "name": "stdout",
     "output_type": "stream",
     "text": [
      "Enter the string :good\n",
      "uinque string is god\n"
     ]
    }
   ],
   "source": [
    "#task1\n",
    "def removeDuplicate(str1,n):\n",
    "    index = 0\n",
    "    for i in range(0,n): # going through all the characters\n",
    "        for j in range(0,i+1):#checking if str[i] is present before it\n",
    "            if (str1[i] == str1[j]):\n",
    "                break\n",
    "        if (j == i):# if not present add it to unique \n",
    "            str1[index] = str1[i]\n",
    "            index = index+1\n",
    "    return \"\".join(str1[:index])\n",
    "str1 = input(\"Enter the string :\")\n",
    "n = len(str1)\n",
    "print(\"uinque string is\" ,removeDuplicate(list(str1),n))"
   ]
  },
  {
   "cell_type": "code",
   "execution_count": 5,
   "metadata": {},
   "outputs": [
    {
     "name": "stdout",
     "output_type": "stream",
     "text": [
      "Enter the number of elements in the list : 5\n",
      "1\n",
      "2\n",
      "v\n",
      "b\n",
      "g\n",
      "The original list is ['1', '2', 'v', 'b', 'g']\n",
      "reversed list is ['g', 'b', 'v', '2', '1']\n"
     ]
    }
   ],
   "source": [
    "# task3\n",
    "list1 = []\n",
    "n = int(input(\"Enter the number of elements in the list : \"))\n",
    "for i in range (0,n):\n",
    "    elem = input()\n",
    "    list1.append(elem)\n",
    "print(\"The original list is\" ,list1)\n",
    "reverse_list = list1[::-1]\n",
    "print(\"reversed list is\" , reverse_list)\n"
   ]
  },
  {
   "cell_type": "code",
   "execution_count": 8,
   "metadata": {},
   "outputs": [],
   "source": [
    "#task 4\n",
    "class small_large:\n",
    "    def small(list1):\n",
    "        small_elem=list1[0]\n",
    "        print(\"small element is:\" ,small_elem)\n",
    "    def large(list1):\n",
    "        large_elem=list1[-1]\n",
    "        print(\"large element is:\" ,large_elem)"
   ]
  },
  {
   "cell_type": "code",
   "execution_count": 10,
   "metadata": {},
   "outputs": [
    {
     "name": "stdout",
     "output_type": "stream",
     "text": [
      "small element is: 1\n",
      "large element is: 9\n"
     ]
    }
   ],
   "source": [
    "list1=[1,9,4,2,8]\n",
    "list1.sort()\n",
    "small_large.small(list1)\n",
    "small_large.large(list1)"
   ]
  }
 ],
 "metadata": {
  "kernelspec": {
   "display_name": "Python 3",
   "language": "python",
   "name": "python3"
  },
  "language_info": {
   "codemirror_mode": {
    "name": "ipython",
    "version": 3
   },
   "file_extension": ".py",
   "mimetype": "text/x-python",
   "name": "python",
   "nbconvert_exporter": "python",
   "pygments_lexer": "ipython3",
   "version": "3.8.3"
  }
 },
 "nbformat": 4,
 "nbformat_minor": 4
}
