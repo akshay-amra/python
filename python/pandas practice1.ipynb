{
 "cells": [
  {
   "cell_type": "code",
   "execution_count": 1,
   "metadata": {},
   "outputs": [],
   "source": [
    "import numpy as np\n",
    "import pandas as pd"
   ]
  },
  {
   "cell_type": "code",
   "execution_count": 2,
   "metadata": {},
   "outputs": [
    {
     "data": {
      "text/plain": [
       "array([1, 2, 3, 4])"
      ]
     },
     "execution_count": 2,
     "metadata": {},
     "output_type": "execute_result"
    }
   ],
   "source": [
    "s=np.array([1,2,3,4])\n",
    "s"
   ]
  },
  {
   "cell_type": "code",
   "execution_count": 7,
   "metadata": {},
   "outputs": [
    {
     "name": "stdout",
     "output_type": "stream",
     "text": [
      "0    1\n",
      "1    2\n",
      "2    3\n",
      "3    4\n",
      "dtype: int32\n"
     ]
    }
   ],
   "source": [
    "f=pd.Series(s)\n",
    "print(f)"
   ]
  },
  {
   "cell_type": "code",
   "execution_count": 8,
   "metadata": {},
   "outputs": [
    {
     "data": {
      "text/plain": [
       "pandas.core.series.Series"
      ]
     },
     "execution_count": 8,
     "metadata": {},
     "output_type": "execute_result"
    }
   ],
   "source": [
    "type(f)"
   ]
  },
  {
   "cell_type": "code",
   "execution_count": 9,
   "metadata": {},
   "outputs": [
    {
     "data": {
      "text/plain": [
       "numpy.ndarray"
      ]
     },
     "execution_count": 9,
     "metadata": {},
     "output_type": "execute_result"
    }
   ],
   "source": [
    "type(s)"
   ]
  },
  {
   "cell_type": "code",
   "execution_count": 100,
   "metadata": {},
   "outputs": [
    {
     "data": {
      "text/plain": [
       "100    a\n",
       "101    b\n",
       "102    c\n",
       "103    d\n",
       "dtype: object"
      ]
     },
     "execution_count": 100,
     "metadata": {},
     "output_type": "execute_result"
    }
   ],
   "source": [
    "arr=np.array(['a','b','c','d'])\n",
    "arr\n",
    "s=pd.Series(arr, index=[100,101,102,103])\n",
    "s"
   ]
  },
  {
   "cell_type": "code",
   "execution_count": 24,
   "metadata": {},
   "outputs": [
    {
     "data": {
      "text/plain": [
       "10    a\n",
       "20    b\n",
       "30    c\n",
       "40    d\n",
       "dtype: object"
      ]
     },
     "execution_count": 24,
     "metadata": {},
     "output_type": "execute_result"
    }
   ],
   "source": [
    "a=pd.Series(arr,index=[10,20,30,40])\n",
    "a"
   ]
  },
  {
   "cell_type": "code",
   "execution_count": 28,
   "metadata": {},
   "outputs": [
    {
     "data": {
      "text/plain": [
       "{'a': 1, 'b': 2, 'c': 3}"
      ]
     },
     "execution_count": 28,
     "metadata": {},
     "output_type": "execute_result"
    }
   ],
   "source": [
    "#dictionaries\n",
    "dict1 = {'a': 1 , 'b': 2 , 'c': 3}\n",
    "dict1"
   ]
  },
  {
   "cell_type": "code",
   "execution_count": 29,
   "metadata": {},
   "outputs": [
    {
     "data": {
      "text/plain": [
       "dict"
      ]
     },
     "execution_count": 29,
     "metadata": {},
     "output_type": "execute_result"
    }
   ],
   "source": [
    "type(dict1)"
   ]
  },
  {
   "cell_type": "code",
   "execution_count": 34,
   "metadata": {},
   "outputs": [
    {
     "data": {
      "text/plain": [
       "a    1\n",
       "b    2\n",
       "c    3\n",
       "dtype: int64"
      ]
     },
     "execution_count": 34,
     "metadata": {},
     "output_type": "execute_result"
    }
   ],
   "source": [
    "s=pd.Series(dict1)\n",
    "s"
   ]
  },
  {
   "cell_type": "code",
   "execution_count": 33,
   "metadata": {},
   "outputs": [
    {
     "data": {
      "text/plain": [
       "pandas.core.series.Series"
      ]
     },
     "execution_count": 33,
     "metadata": {},
     "output_type": "execute_result"
    }
   ],
   "source": [
    "type(s)"
   ]
  },
  {
   "cell_type": "code",
   "execution_count": 22,
   "metadata": {},
   "outputs": [
    {
     "data": {
      "text/plain": [
       "1    a\n",
       "2    a\n",
       "3    a\n",
       "4    a\n",
       "dtype: object"
      ]
     },
     "execution_count": 22,
     "metadata": {},
     "output_type": "execute_result"
    }
   ],
   "source": [
    "s=pd.Series('a',index=[1,2,3,4])\n",
    "s"
   ]
  },
  {
   "cell_type": "code",
   "execution_count": 36,
   "metadata": {},
   "outputs": [
    {
     "data": {
      "text/plain": [
       "0    1\n",
       "1    2\n",
       "2    3\n",
       "3    4\n",
       "dtype: int64"
      ]
     },
     "execution_count": 36,
     "metadata": {},
     "output_type": "execute_result"
    }
   ],
   "source": [
    "s=pd.Series([1,2,3,4])\n",
    "s"
   ]
  },
  {
   "cell_type": "code",
   "execution_count": 37,
   "metadata": {},
   "outputs": [
    {
     "data": {
      "text/plain": [
       "3"
      ]
     },
     "execution_count": 37,
     "metadata": {},
     "output_type": "execute_result"
    }
   ],
   "source": [
    "s[2]"
   ]
  },
  {
   "cell_type": "code",
   "execution_count": 38,
   "metadata": {},
   "outputs": [
    {
     "data": {
      "text/plain": [
       "0    1\n",
       "3    4\n",
       "dtype: int64"
      ]
     },
     "execution_count": 38,
     "metadata": {},
     "output_type": "execute_result"
    }
   ],
   "source": [
    "s[::3]"
   ]
  },
  {
   "cell_type": "code",
   "execution_count": 39,
   "metadata": {},
   "outputs": [
    {
     "data": {
      "text/plain": [
       "0    1\n",
       "1    2\n",
       "2    3\n",
       "dtype: int64"
      ]
     },
     "execution_count": 39,
     "metadata": {},
     "output_type": "execute_result"
    }
   ],
   "source": [
    "s[:-1]"
   ]
  },
  {
   "cell_type": "code",
   "execution_count": 43,
   "metadata": {},
   "outputs": [
    {
     "data": {
      "text/plain": [
       "0    1\n",
       "1    2\n",
       "2    3\n",
       "3    4\n",
       "dtype: int64"
      ]
     },
     "execution_count": 43,
     "metadata": {},
     "output_type": "execute_result"
    }
   ],
   "source": [
    "s[-4: ]"
   ]
  },
  {
   "cell_type": "code",
   "execution_count": 45,
   "metadata": {},
   "outputs": [
    {
     "data": {
      "text/plain": [
       "a    1\n",
       "b    2\n",
       "c    3\n",
       "d    4\n",
       "e    5\n",
       "f    6\n",
       "dtype: int64"
      ]
     },
     "execution_count": 45,
     "metadata": {},
     "output_type": "execute_result"
    }
   ],
   "source": [
    "s=pd.Series([1,2,3,4,5,6],index=['a','b','c','d','e','f'])\n",
    "s"
   ]
  },
  {
   "cell_type": "code",
   "execution_count": 47,
   "metadata": {},
   "outputs": [
    {
     "data": {
      "text/plain": [
       "1"
      ]
     },
     "execution_count": 47,
     "metadata": {},
     "output_type": "execute_result"
    }
   ],
   "source": [
    "s['a']"
   ]
  },
  {
   "cell_type": "code",
   "execution_count": 50,
   "metadata": {},
   "outputs": [
    {
     "data": {
      "text/plain": [
       "a    1\n",
       "b    2\n",
       "c    3\n",
       "d    4\n",
       "dtype: int64"
      ]
     },
     "execution_count": 50,
     "metadata": {},
     "output_type": "execute_result"
    }
   ],
   "source": [
    "s['a':'d']"
   ]
  },
  {
   "cell_type": "code",
   "execution_count": 51,
   "metadata": {},
   "outputs": [
    {
     "data": {
      "text/plain": [
       "Index(['a', 'b', 'c', 'd', 'e', 'f'], dtype='object')"
      ]
     },
     "execution_count": 51,
     "metadata": {},
     "output_type": "execute_result"
    }
   ],
   "source": [
    "s.index"
   ]
  },
  {
   "cell_type": "code",
   "execution_count": 52,
   "metadata": {},
   "outputs": [
    {
     "data": {
      "text/plain": [
       "array([1, 2, 3, 4, 5, 6], dtype=int64)"
      ]
     },
     "execution_count": 52,
     "metadata": {},
     "output_type": "execute_result"
    }
   ],
   "source": [
    "s.values"
   ]
  },
  {
   "cell_type": "code",
   "execution_count": 61,
   "metadata": {},
   "outputs": [
    {
     "name": "stdout",
     "output_type": "stream",
     "text": [
      "                   Name Age\n",
      "first person     akshay  21\n",
      "second person  shraddha  23\n",
      "third person   kartheek  25\n"
     ]
    }
   ],
   "source": [
    "#dataframes\n",
    "name=['akshay','shraddha','kartheek']\n",
    "age=['21','23','25']\n",
    "indexes=['first person','second person','third person']\n",
    "dict1={'Name':name,'Age':age}\n",
    "s=pd.DataFrame(dict1,index=indexes)\n",
    "print(s)"
   ]
  },
  {
   "cell_type": "code",
   "execution_count": 64,
   "metadata": {},
   "outputs": [
    {
     "name": "stdout",
     "output_type": "stream",
     "text": [
      "          Name Age   hobies\n",
      "boy1    akshay  21  cricket\n",
      "boy2      abhi  22     pubg\n",
      "boy3     kiran  23      oyo\n",
      "boy4  abhilash  21  driving\n"
     ]
    }
   ],
   "source": [
    "name=['akshay','abhi','kiran','abhilash']\n",
    "age=['21','22','23','21']\n",
    "hobies=['cricket','pubg','oyo','driving']\n",
    "indexes=['boy1','boy2','boy3','boy4']\n",
    "dict1={'Name':name,'Age':age,'hobies':hobies}\n",
    "btech=pd.DataFrame(dict1,index=indexes)\n",
    "print(btech)"
   ]
  },
  {
   "cell_type": "code",
   "execution_count": 65,
   "metadata": {},
   "outputs": [
    {
     "data": {
      "text/plain": [
       "first person       akshay\n",
       "second person    shraddha\n",
       "third person     kartheek\n",
       "Name: Name, dtype: object"
      ]
     },
     "execution_count": 65,
     "metadata": {},
     "output_type": "execute_result"
    }
   ],
   "source": [
    "s['Name']"
   ]
  },
  {
   "cell_type": "code",
   "execution_count": 66,
   "metadata": {},
   "outputs": [
    {
     "data": {
      "text/plain": [
       "boy1      akshay\n",
       "boy2        abhi\n",
       "boy3       kiran\n",
       "boy4    abhilash\n",
       "Name: Name, dtype: object"
      ]
     },
     "execution_count": 66,
     "metadata": {},
     "output_type": "execute_result"
    }
   ],
   "source": [
    "btech['Name']"
   ]
  },
  {
   "cell_type": "code",
   "execution_count": 73,
   "metadata": {},
   "outputs": [
    {
     "data": {
      "text/html": [
       "<div>\n",
       "<style scoped>\n",
       "    .dataframe tbody tr th:only-of-type {\n",
       "        vertical-align: middle;\n",
       "    }\n",
       "\n",
       "    .dataframe tbody tr th {\n",
       "        vertical-align: top;\n",
       "    }\n",
       "\n",
       "    .dataframe thead th {\n",
       "        text-align: right;\n",
       "    }\n",
       "</style>\n",
       "<table border=\"1\" class=\"dataframe\">\n",
       "  <thead>\n",
       "    <tr style=\"text-align: right;\">\n",
       "      <th></th>\n",
       "      <th>Name</th>\n",
       "      <th>Age</th>\n",
       "      <th>hobies</th>\n",
       "    </tr>\n",
       "  </thead>\n",
       "  <tbody>\n",
       "    <tr>\n",
       "      <th>boy1</th>\n",
       "      <td>akshay</td>\n",
       "      <td>21</td>\n",
       "      <td>cricket</td>\n",
       "    </tr>\n",
       "    <tr>\n",
       "      <th>boy3</th>\n",
       "      <td>kiran</td>\n",
       "      <td>23</td>\n",
       "      <td>oyo</td>\n",
       "    </tr>\n",
       "  </tbody>\n",
       "</table>\n",
       "</div>"
      ],
      "text/plain": [
       "        Name Age   hobies\n",
       "boy1  akshay  21  cricket\n",
       "boy3   kiran  23      oyo"
      ]
     },
     "execution_count": 73,
     "metadata": {},
     "output_type": "execute_result"
    }
   ],
   "source": [
    "btech['boy1':'boy4':2]"
   ]
  },
  {
   "cell_type": "code",
   "execution_count": 75,
   "metadata": {},
   "outputs": [
    {
     "data": {
      "text/html": [
       "<div>\n",
       "<style scoped>\n",
       "    .dataframe tbody tr th:only-of-type {\n",
       "        vertical-align: middle;\n",
       "    }\n",
       "\n",
       "    .dataframe tbody tr th {\n",
       "        vertical-align: top;\n",
       "    }\n",
       "\n",
       "    .dataframe thead th {\n",
       "        text-align: right;\n",
       "    }\n",
       "</style>\n",
       "<table border=\"1\" class=\"dataframe\">\n",
       "  <thead>\n",
       "    <tr style=\"text-align: right;\">\n",
       "      <th></th>\n",
       "      <th>Name</th>\n",
       "      <th>Age</th>\n",
       "      <th>hobies</th>\n",
       "    </tr>\n",
       "  </thead>\n",
       "  <tbody>\n",
       "    <tr>\n",
       "      <th>first person</th>\n",
       "      <td>akshay</td>\n",
       "      <td>21</td>\n",
       "      <td>cricket</td>\n",
       "    </tr>\n",
       "    <tr>\n",
       "      <th>second person</th>\n",
       "      <td>shraddha</td>\n",
       "      <td>23</td>\n",
       "      <td>cooking</td>\n",
       "    </tr>\n",
       "    <tr>\n",
       "      <th>third person</th>\n",
       "      <td>kartheek</td>\n",
       "      <td>25</td>\n",
       "      <td>shopping</td>\n",
       "    </tr>\n",
       "  </tbody>\n",
       "</table>\n",
       "</div>"
      ],
      "text/plain": [
       "                   Name Age    hobies\n",
       "first person     akshay  21   cricket\n",
       "second person  shraddha  23   cooking\n",
       "third person   kartheek  25  shopping"
      ]
     },
     "execution_count": 75,
     "metadata": {},
     "output_type": "execute_result"
    }
   ],
   "source": [
    "s['hobies']=['cricket','cooking','shopping']\n",
    "s"
   ]
  },
  {
   "cell_type": "code",
   "execution_count": 80,
   "metadata": {},
   "outputs": [
    {
     "name": "stdout",
     "output_type": "stream",
     "text": [
      "    Random Name  choice\n",
      "0       16    c      50\n",
      "1       14    d      20\n",
      "2       27    b      40\n",
      "3        4    c      20\n",
      "4        4    b      40\n",
      "5       11    b      50\n",
      "6       10    a      50\n",
      "7       10    d      40\n",
      "8       21    a      40\n",
      "9       27    c      30\n",
      "10       9    c      40\n",
      "11      21    a      40\n",
      "12      27    b      30\n",
      "13      17    a      10\n",
      "14       6    c      40\n",
      "15      18    a      30\n",
      "16      17    b      10\n",
      "17      11    b      40\n",
      "18       7    a      30\n",
      "19      10    b      20\n",
      "20      18    c      40\n",
      "21      21    a      20\n",
      "22      16    a      30\n",
      "23      22    c      20\n",
      "24      25    c      30\n",
      "25       4    b      30\n",
      "26      21    c      20\n",
      "27      12    a      20\n",
      "28       1    c      30\n",
      "29       3    a      10\n"
     ]
    }
   ],
   "source": [
    "random=np.random.randint(low=0,high=30,size=30)\n",
    "name=np.random.choice(['a','b','c','d'],size=30)\n",
    "choice=np.random.choice([10,20,30,40,50],size=30)\n",
    "dict1={'Random':random,'Name':name,'choice':choice}\n",
    "p=pd.DataFrame(dict1)\n",
    "print(p)"
   ]
  },
  {
   "cell_type": "code",
   "execution_count": 81,
   "metadata": {},
   "outputs": [
    {
     "data": {
      "text/plain": [
       "(30, 3)"
      ]
     },
     "execution_count": 81,
     "metadata": {},
     "output_type": "execute_result"
    }
   ],
   "source": [
    "p.shape"
   ]
  },
  {
   "cell_type": "code",
   "execution_count": 82,
   "metadata": {},
   "outputs": [
    {
     "data": {
      "text/plain": [
       "pandas.core.frame.DataFrame"
      ]
     },
     "execution_count": 82,
     "metadata": {},
     "output_type": "execute_result"
    }
   ],
   "source": [
    "type(p)"
   ]
  },
  {
   "cell_type": "code",
   "execution_count": 83,
   "metadata": {},
   "outputs": [
    {
     "data": {
      "text/plain": [
       "array([[16, 'c', 50],\n",
       "       [14, 'd', 20],\n",
       "       [27, 'b', 40],\n",
       "       [4, 'c', 20],\n",
       "       [4, 'b', 40],\n",
       "       [11, 'b', 50],\n",
       "       [10, 'a', 50],\n",
       "       [10, 'd', 40],\n",
       "       [21, 'a', 40],\n",
       "       [27, 'c', 30],\n",
       "       [9, 'c', 40],\n",
       "       [21, 'a', 40],\n",
       "       [27, 'b', 30],\n",
       "       [17, 'a', 10],\n",
       "       [6, 'c', 40],\n",
       "       [18, 'a', 30],\n",
       "       [17, 'b', 10],\n",
       "       [11, 'b', 40],\n",
       "       [7, 'a', 30],\n",
       "       [10, 'b', 20],\n",
       "       [18, 'c', 40],\n",
       "       [21, 'a', 20],\n",
       "       [16, 'a', 30],\n",
       "       [22, 'c', 20],\n",
       "       [25, 'c', 30],\n",
       "       [4, 'b', 30],\n",
       "       [21, 'c', 20],\n",
       "       [12, 'a', 20],\n",
       "       [1, 'c', 30],\n",
       "       [3, 'a', 10]], dtype=object)"
      ]
     },
     "execution_count": 83,
     "metadata": {},
     "output_type": "execute_result"
    }
   ],
   "source": [
    "p.values"
   ]
  },
  {
   "cell_type": "code",
   "execution_count": 84,
   "metadata": {},
   "outputs": [
    {
     "data": {
      "text/plain": [
       "Index(['Random', 'Name', 'choice'], dtype='object')"
      ]
     },
     "execution_count": 84,
     "metadata": {},
     "output_type": "execute_result"
    }
   ],
   "source": [
    "p.columns"
   ]
  },
  {
   "cell_type": "code",
   "execution_count": 85,
   "metadata": {},
   "outputs": [
    {
     "data": {
      "text/html": [
       "<div>\n",
       "<style scoped>\n",
       "    .dataframe tbody tr th:only-of-type {\n",
       "        vertical-align: middle;\n",
       "    }\n",
       "\n",
       "    .dataframe tbody tr th {\n",
       "        vertical-align: top;\n",
       "    }\n",
       "\n",
       "    .dataframe thead th {\n",
       "        text-align: right;\n",
       "    }\n",
       "</style>\n",
       "<table border=\"1\" class=\"dataframe\">\n",
       "  <thead>\n",
       "    <tr style=\"text-align: right;\">\n",
       "      <th></th>\n",
       "      <th>Random</th>\n",
       "      <th>Name</th>\n",
       "      <th>choice</th>\n",
       "    </tr>\n",
       "  </thead>\n",
       "  <tbody>\n",
       "    <tr>\n",
       "      <th>0</th>\n",
       "      <td>16</td>\n",
       "      <td>c</td>\n",
       "      <td>50</td>\n",
       "    </tr>\n",
       "    <tr>\n",
       "      <th>1</th>\n",
       "      <td>14</td>\n",
       "      <td>d</td>\n",
       "      <td>20</td>\n",
       "    </tr>\n",
       "    <tr>\n",
       "      <th>2</th>\n",
       "      <td>27</td>\n",
       "      <td>b</td>\n",
       "      <td>40</td>\n",
       "    </tr>\n",
       "    <tr>\n",
       "      <th>3</th>\n",
       "      <td>4</td>\n",
       "      <td>c</td>\n",
       "      <td>20</td>\n",
       "    </tr>\n",
       "    <tr>\n",
       "      <th>4</th>\n",
       "      <td>4</td>\n",
       "      <td>b</td>\n",
       "      <td>40</td>\n",
       "    </tr>\n",
       "  </tbody>\n",
       "</table>\n",
       "</div>"
      ],
      "text/plain": [
       "   Random Name  choice\n",
       "0      16    c      50\n",
       "1      14    d      20\n",
       "2      27    b      40\n",
       "3       4    c      20\n",
       "4       4    b      40"
      ]
     },
     "execution_count": 85,
     "metadata": {},
     "output_type": "execute_result"
    }
   ],
   "source": [
    "p.head()"
   ]
  },
  {
   "cell_type": "code",
   "execution_count": 86,
   "metadata": {},
   "outputs": [
    {
     "data": {
      "text/html": [
       "<div>\n",
       "<style scoped>\n",
       "    .dataframe tbody tr th:only-of-type {\n",
       "        vertical-align: middle;\n",
       "    }\n",
       "\n",
       "    .dataframe tbody tr th {\n",
       "        vertical-align: top;\n",
       "    }\n",
       "\n",
       "    .dataframe thead th {\n",
       "        text-align: right;\n",
       "    }\n",
       "</style>\n",
       "<table border=\"1\" class=\"dataframe\">\n",
       "  <thead>\n",
       "    <tr style=\"text-align: right;\">\n",
       "      <th></th>\n",
       "      <th>Random</th>\n",
       "      <th>Name</th>\n",
       "      <th>choice</th>\n",
       "    </tr>\n",
       "  </thead>\n",
       "  <tbody>\n",
       "    <tr>\n",
       "      <th>25</th>\n",
       "      <td>4</td>\n",
       "      <td>b</td>\n",
       "      <td>30</td>\n",
       "    </tr>\n",
       "    <tr>\n",
       "      <th>26</th>\n",
       "      <td>21</td>\n",
       "      <td>c</td>\n",
       "      <td>20</td>\n",
       "    </tr>\n",
       "    <tr>\n",
       "      <th>27</th>\n",
       "      <td>12</td>\n",
       "      <td>a</td>\n",
       "      <td>20</td>\n",
       "    </tr>\n",
       "    <tr>\n",
       "      <th>28</th>\n",
       "      <td>1</td>\n",
       "      <td>c</td>\n",
       "      <td>30</td>\n",
       "    </tr>\n",
       "    <tr>\n",
       "      <th>29</th>\n",
       "      <td>3</td>\n",
       "      <td>a</td>\n",
       "      <td>10</td>\n",
       "    </tr>\n",
       "  </tbody>\n",
       "</table>\n",
       "</div>"
      ],
      "text/plain": [
       "    Random Name  choice\n",
       "25       4    b      30\n",
       "26      21    c      20\n",
       "27      12    a      20\n",
       "28       1    c      30\n",
       "29       3    a      10"
      ]
     },
     "execution_count": 86,
     "metadata": {},
     "output_type": "execute_result"
    }
   ],
   "source": [
    "p.tail()"
   ]
  },
  {
   "cell_type": "code",
   "execution_count": 87,
   "metadata": {},
   "outputs": [
    {
     "data": {
      "text/html": [
       "<div>\n",
       "<style scoped>\n",
       "    .dataframe tbody tr th:only-of-type {\n",
       "        vertical-align: middle;\n",
       "    }\n",
       "\n",
       "    .dataframe tbody tr th {\n",
       "        vertical-align: top;\n",
       "    }\n",
       "\n",
       "    .dataframe thead th {\n",
       "        text-align: right;\n",
       "    }\n",
       "</style>\n",
       "<table border=\"1\" class=\"dataframe\">\n",
       "  <thead>\n",
       "    <tr style=\"text-align: right;\">\n",
       "      <th></th>\n",
       "      <th>Random</th>\n",
       "      <th>Name</th>\n",
       "      <th>choice</th>\n",
       "    </tr>\n",
       "  </thead>\n",
       "  <tbody>\n",
       "    <tr>\n",
       "      <th>0</th>\n",
       "      <td>16</td>\n",
       "      <td>c</td>\n",
       "      <td>50</td>\n",
       "    </tr>\n",
       "    <tr>\n",
       "      <th>1</th>\n",
       "      <td>14</td>\n",
       "      <td>d</td>\n",
       "      <td>20</td>\n",
       "    </tr>\n",
       "    <tr>\n",
       "      <th>2</th>\n",
       "      <td>27</td>\n",
       "      <td>b</td>\n",
       "      <td>40</td>\n",
       "    </tr>\n",
       "    <tr>\n",
       "      <th>3</th>\n",
       "      <td>4</td>\n",
       "      <td>c</td>\n",
       "      <td>20</td>\n",
       "    </tr>\n",
       "    <tr>\n",
       "      <th>4</th>\n",
       "      <td>4</td>\n",
       "      <td>b</td>\n",
       "      <td>40</td>\n",
       "    </tr>\n",
       "    <tr>\n",
       "      <th>5</th>\n",
       "      <td>11</td>\n",
       "      <td>b</td>\n",
       "      <td>50</td>\n",
       "    </tr>\n",
       "    <tr>\n",
       "      <th>6</th>\n",
       "      <td>10</td>\n",
       "      <td>a</td>\n",
       "      <td>50</td>\n",
       "    </tr>\n",
       "    <tr>\n",
       "      <th>7</th>\n",
       "      <td>10</td>\n",
       "      <td>d</td>\n",
       "      <td>40</td>\n",
       "    </tr>\n",
       "    <tr>\n",
       "      <th>8</th>\n",
       "      <td>21</td>\n",
       "      <td>a</td>\n",
       "      <td>40</td>\n",
       "    </tr>\n",
       "    <tr>\n",
       "      <th>9</th>\n",
       "      <td>27</td>\n",
       "      <td>c</td>\n",
       "      <td>30</td>\n",
       "    </tr>\n",
       "    <tr>\n",
       "      <th>10</th>\n",
       "      <td>9</td>\n",
       "      <td>c</td>\n",
       "      <td>40</td>\n",
       "    </tr>\n",
       "    <tr>\n",
       "      <th>11</th>\n",
       "      <td>21</td>\n",
       "      <td>a</td>\n",
       "      <td>40</td>\n",
       "    </tr>\n",
       "    <tr>\n",
       "      <th>12</th>\n",
       "      <td>27</td>\n",
       "      <td>b</td>\n",
       "      <td>30</td>\n",
       "    </tr>\n",
       "    <tr>\n",
       "      <th>13</th>\n",
       "      <td>17</td>\n",
       "      <td>a</td>\n",
       "      <td>10</td>\n",
       "    </tr>\n",
       "    <tr>\n",
       "      <th>14</th>\n",
       "      <td>6</td>\n",
       "      <td>c</td>\n",
       "      <td>40</td>\n",
       "    </tr>\n",
       "  </tbody>\n",
       "</table>\n",
       "</div>"
      ],
      "text/plain": [
       "    Random Name  choice\n",
       "0       16    c      50\n",
       "1       14    d      20\n",
       "2       27    b      40\n",
       "3        4    c      20\n",
       "4        4    b      40\n",
       "5       11    b      50\n",
       "6       10    a      50\n",
       "7       10    d      40\n",
       "8       21    a      40\n",
       "9       27    c      30\n",
       "10       9    c      40\n",
       "11      21    a      40\n",
       "12      27    b      30\n",
       "13      17    a      10\n",
       "14       6    c      40"
      ]
     },
     "execution_count": 87,
     "metadata": {},
     "output_type": "execute_result"
    }
   ],
   "source": [
    "p.head(15)"
   ]
  },
  {
   "cell_type": "code",
   "execution_count": 88,
   "metadata": {},
   "outputs": [
    {
     "data": {
      "text/html": [
       "<div>\n",
       "<style scoped>\n",
       "    .dataframe tbody tr th:only-of-type {\n",
       "        vertical-align: middle;\n",
       "    }\n",
       "\n",
       "    .dataframe tbody tr th {\n",
       "        vertical-align: top;\n",
       "    }\n",
       "\n",
       "    .dataframe thead th {\n",
       "        text-align: right;\n",
       "    }\n",
       "</style>\n",
       "<table border=\"1\" class=\"dataframe\">\n",
       "  <thead>\n",
       "    <tr style=\"text-align: right;\">\n",
       "      <th></th>\n",
       "      <th>Random</th>\n",
       "      <th>Name</th>\n",
       "      <th>choice</th>\n",
       "    </tr>\n",
       "  </thead>\n",
       "  <tbody>\n",
       "    <tr>\n",
       "      <th>15</th>\n",
       "      <td>18</td>\n",
       "      <td>a</td>\n",
       "      <td>30</td>\n",
       "    </tr>\n",
       "    <tr>\n",
       "      <th>16</th>\n",
       "      <td>17</td>\n",
       "      <td>b</td>\n",
       "      <td>10</td>\n",
       "    </tr>\n",
       "    <tr>\n",
       "      <th>17</th>\n",
       "      <td>11</td>\n",
       "      <td>b</td>\n",
       "      <td>40</td>\n",
       "    </tr>\n",
       "    <tr>\n",
       "      <th>18</th>\n",
       "      <td>7</td>\n",
       "      <td>a</td>\n",
       "      <td>30</td>\n",
       "    </tr>\n",
       "    <tr>\n",
       "      <th>19</th>\n",
       "      <td>10</td>\n",
       "      <td>b</td>\n",
       "      <td>20</td>\n",
       "    </tr>\n",
       "    <tr>\n",
       "      <th>20</th>\n",
       "      <td>18</td>\n",
       "      <td>c</td>\n",
       "      <td>40</td>\n",
       "    </tr>\n",
       "    <tr>\n",
       "      <th>21</th>\n",
       "      <td>21</td>\n",
       "      <td>a</td>\n",
       "      <td>20</td>\n",
       "    </tr>\n",
       "    <tr>\n",
       "      <th>22</th>\n",
       "      <td>16</td>\n",
       "      <td>a</td>\n",
       "      <td>30</td>\n",
       "    </tr>\n",
       "    <tr>\n",
       "      <th>23</th>\n",
       "      <td>22</td>\n",
       "      <td>c</td>\n",
       "      <td>20</td>\n",
       "    </tr>\n",
       "    <tr>\n",
       "      <th>24</th>\n",
       "      <td>25</td>\n",
       "      <td>c</td>\n",
       "      <td>30</td>\n",
       "    </tr>\n",
       "    <tr>\n",
       "      <th>25</th>\n",
       "      <td>4</td>\n",
       "      <td>b</td>\n",
       "      <td>30</td>\n",
       "    </tr>\n",
       "    <tr>\n",
       "      <th>26</th>\n",
       "      <td>21</td>\n",
       "      <td>c</td>\n",
       "      <td>20</td>\n",
       "    </tr>\n",
       "    <tr>\n",
       "      <th>27</th>\n",
       "      <td>12</td>\n",
       "      <td>a</td>\n",
       "      <td>20</td>\n",
       "    </tr>\n",
       "    <tr>\n",
       "      <th>28</th>\n",
       "      <td>1</td>\n",
       "      <td>c</td>\n",
       "      <td>30</td>\n",
       "    </tr>\n",
       "    <tr>\n",
       "      <th>29</th>\n",
       "      <td>3</td>\n",
       "      <td>a</td>\n",
       "      <td>10</td>\n",
       "    </tr>\n",
       "  </tbody>\n",
       "</table>\n",
       "</div>"
      ],
      "text/plain": [
       "    Random Name  choice\n",
       "15      18    a      30\n",
       "16      17    b      10\n",
       "17      11    b      40\n",
       "18       7    a      30\n",
       "19      10    b      20\n",
       "20      18    c      40\n",
       "21      21    a      20\n",
       "22      16    a      30\n",
       "23      22    c      20\n",
       "24      25    c      30\n",
       "25       4    b      30\n",
       "26      21    c      20\n",
       "27      12    a      20\n",
       "28       1    c      30\n",
       "29       3    a      10"
      ]
     },
     "execution_count": 88,
     "metadata": {},
     "output_type": "execute_result"
    }
   ],
   "source": [
    "p.tail(15)"
   ]
  },
  {
   "cell_type": "code",
   "execution_count": 89,
   "metadata": {},
   "outputs": [
    {
     "data": {
      "text/plain": [
       "<bound method DataFrame.info of     Random Name  choice\n",
       "0       16    c      50\n",
       "1       14    d      20\n",
       "2       27    b      40\n",
       "3        4    c      20\n",
       "4        4    b      40\n",
       "5       11    b      50\n",
       "6       10    a      50\n",
       "7       10    d      40\n",
       "8       21    a      40\n",
       "9       27    c      30\n",
       "10       9    c      40\n",
       "11      21    a      40\n",
       "12      27    b      30\n",
       "13      17    a      10\n",
       "14       6    c      40\n",
       "15      18    a      30\n",
       "16      17    b      10\n",
       "17      11    b      40\n",
       "18       7    a      30\n",
       "19      10    b      20\n",
       "20      18    c      40\n",
       "21      21    a      20\n",
       "22      16    a      30\n",
       "23      22    c      20\n",
       "24      25    c      30\n",
       "25       4    b      30\n",
       "26      21    c      20\n",
       "27      12    a      20\n",
       "28       1    c      30\n",
       "29       3    a      10>"
      ]
     },
     "execution_count": 89,
     "metadata": {},
     "output_type": "execute_result"
    }
   ],
   "source": [
    "p.info"
   ]
  },
  {
   "cell_type": "code",
   "execution_count": 90,
   "metadata": {},
   "outputs": [
    {
     "data": {
      "text/plain": [
       "<bound method NDFrame.describe of     Random Name  choice\n",
       "0       16    c      50\n",
       "1       14    d      20\n",
       "2       27    b      40\n",
       "3        4    c      20\n",
       "4        4    b      40\n",
       "5       11    b      50\n",
       "6       10    a      50\n",
       "7       10    d      40\n",
       "8       21    a      40\n",
       "9       27    c      30\n",
       "10       9    c      40\n",
       "11      21    a      40\n",
       "12      27    b      30\n",
       "13      17    a      10\n",
       "14       6    c      40\n",
       "15      18    a      30\n",
       "16      17    b      10\n",
       "17      11    b      40\n",
       "18       7    a      30\n",
       "19      10    b      20\n",
       "20      18    c      40\n",
       "21      21    a      20\n",
       "22      16    a      30\n",
       "23      22    c      20\n",
       "24      25    c      30\n",
       "25       4    b      30\n",
       "26      21    c      20\n",
       "27      12    a      20\n",
       "28       1    c      30\n",
       "29       3    a      10>"
      ]
     },
     "execution_count": 90,
     "metadata": {},
     "output_type": "execute_result"
    }
   ],
   "source": [
    "p.describe"
   ]
  },
  {
   "cell_type": "code",
   "execution_count": 92,
   "metadata": {},
   "outputs": [
    {
     "data": {
      "text/plain": [
       "<bound method NDFrame.describe of 0     c\n",
       "1     d\n",
       "2     b\n",
       "3     c\n",
       "4     b\n",
       "5     b\n",
       "6     a\n",
       "7     d\n",
       "8     a\n",
       "9     c\n",
       "10    c\n",
       "11    a\n",
       "12    b\n",
       "13    a\n",
       "14    c\n",
       "15    a\n",
       "16    b\n",
       "17    b\n",
       "18    a\n",
       "19    b\n",
       "20    c\n",
       "21    a\n",
       "22    a\n",
       "23    c\n",
       "24    c\n",
       "25    b\n",
       "26    c\n",
       "27    a\n",
       "28    c\n",
       "29    a\n",
       "Name: Name, dtype: object>"
      ]
     },
     "execution_count": 92,
     "metadata": {},
     "output_type": "execute_result"
    }
   ],
   "source": [
    "p['Name'].describe"
   ]
  },
  {
   "cell_type": "code",
   "execution_count": 1,
   "metadata": {},
   "outputs": [
    {
     "ename": "NameError",
     "evalue": "name 'pd' is not defined",
     "output_type": "error",
     "traceback": [
      "\u001b[1;31m---------------------------------------------------------------------------\u001b[0m",
      "\u001b[1;31mNameError\u001b[0m                                 Traceback (most recent call last)",
      "\u001b[1;32m<ipython-input-1-3ee8ee3efafe>\u001b[0m in \u001b[0;36m<module>\u001b[1;34m\u001b[0m\n\u001b[0;32m      1\u001b[0m \u001b[1;31m#csv file handlinghttp://localhost:8889/edit/Downloads/SampleCSVFile_2kb%20(1).csv\u001b[0m\u001b[1;33m\u001b[0m\u001b[1;33m\u001b[0m\u001b[1;33m\u001b[0m\u001b[0m\n\u001b[1;32m----> 2\u001b[1;33m \u001b[0msample_df\u001b[0m\u001b[1;33m=\u001b[0m\u001b[0mpd\u001b[0m\u001b[1;33m.\u001b[0m\u001b[0mread_csv\u001b[0m\u001b[1;33m(\u001b[0m\u001b[1;34m'Downloads\\SampleCSVFile_2kb%20(1).csv'\u001b[0m\u001b[1;33m)\u001b[0m\u001b[1;33m\u001b[0m\u001b[1;33m\u001b[0m\u001b[0m\n\u001b[0m",
      "\u001b[1;31mNameError\u001b[0m: name 'pd' is not defined"
     ]
    }
   ],
   "source": [
    "#csv file handlinghttp://localhost:8889/edit/Downloads/SampleCSVFile_2kb%20(1).csv\n",
    "sample_df=pd.read_csv('Downloads\\Sample100.csv')"
   ]
  },
  {
   "cell_type": "code",
   "execution_count": 104,
   "metadata": {},
   "outputs": [
    {
     "data": {
      "text/html": [
       "<div>\n",
       "<style scoped>\n",
       "    .dataframe tbody tr th:only-of-type {\n",
       "        vertical-align: middle;\n",
       "    }\n",
       "\n",
       "    .dataframe tbody tr th {\n",
       "        vertical-align: top;\n",
       "    }\n",
       "\n",
       "    .dataframe thead th {\n",
       "        text-align: right;\n",
       "    }\n",
       "</style>\n",
       "<table border=\"1\" class=\"dataframe\">\n",
       "  <thead>\n",
       "    <tr style=\"text-align: right;\">\n",
       "      <th></th>\n",
       "      <th>Serial Number</th>\n",
       "      <th>Company Name</th>\n",
       "      <th>Employee Markme</th>\n",
       "      <th>Description</th>\n",
       "      <th>Leave</th>\n",
       "    </tr>\n",
       "  </thead>\n",
       "  <tbody>\n",
       "    <tr>\n",
       "      <th>0</th>\n",
       "      <td>9788189999599</td>\n",
       "      <td>TALES OF SHIVA</td>\n",
       "      <td>Mark</td>\n",
       "      <td>mark</td>\n",
       "      <td>0</td>\n",
       "    </tr>\n",
       "    <tr>\n",
       "      <th>1</th>\n",
       "      <td>9780099578079</td>\n",
       "      <td>1Q84 THE COMPLETE TRILOGY</td>\n",
       "      <td>HARUKI MURAKAMI</td>\n",
       "      <td>Mark</td>\n",
       "      <td>0</td>\n",
       "    </tr>\n",
       "    <tr>\n",
       "      <th>2</th>\n",
       "      <td>9780198082897</td>\n",
       "      <td>MY KUMAN</td>\n",
       "      <td>Mark</td>\n",
       "      <td>Mark</td>\n",
       "      <td>0</td>\n",
       "    </tr>\n",
       "    <tr>\n",
       "      <th>3</th>\n",
       "      <td>9780007880331</td>\n",
       "      <td>THE GOD OF SMAAL THINGS</td>\n",
       "      <td>ARUNDHATI ROY</td>\n",
       "      <td>4TH HARPER COLLINS</td>\n",
       "      <td>2</td>\n",
       "    </tr>\n",
       "    <tr>\n",
       "      <th>4</th>\n",
       "      <td>9780545060455</td>\n",
       "      <td>THE BLACK CIRCLE</td>\n",
       "      <td>Mark</td>\n",
       "      <td>4TH HARPER COLLINS</td>\n",
       "      <td>0</td>\n",
       "    </tr>\n",
       "    <tr>\n",
       "      <th>...</th>\n",
       "      <td>...</td>\n",
       "      <td>...</td>\n",
       "      <td>...</td>\n",
       "      <td>...</td>\n",
       "      <td>...</td>\n",
       "    </tr>\n",
       "    <tr>\n",
       "      <th>94</th>\n",
       "      <td>9788184821536</td>\n",
       "      <td>MORE STORIES FROM THE JATAKAS</td>\n",
       "      <td>Mark</td>\n",
       "      <td>ACK</td>\n",
       "      <td>0</td>\n",
       "    </tr>\n",
       "    <tr>\n",
       "      <th>95</th>\n",
       "      <td>9788184821543</td>\n",
       "      <td>MORE TALES OF BIRBAL</td>\n",
       "      <td>-</td>\n",
       "      <td>ACK</td>\n",
       "      <td>0</td>\n",
       "    </tr>\n",
       "    <tr>\n",
       "      <th>96</th>\n",
       "      <td>9788184821550</td>\n",
       "      <td>TALES FROM THE JATAKAS</td>\n",
       "      <td>-</td>\n",
       "      <td>ACK</td>\n",
       "      <td>0</td>\n",
       "    </tr>\n",
       "    <tr>\n",
       "      <th>97</th>\n",
       "      <td>9788184821567</td>\n",
       "      <td>RAMarkS OF MEWAR</td>\n",
       "      <td>-</td>\n",
       "      <td>ACK</td>\n",
       "      <td>0</td>\n",
       "    </tr>\n",
       "    <tr>\n",
       "      <th>98</th>\n",
       "      <td>9788184821574</td>\n",
       "      <td>THE SONS OF THE PANDAVAS</td>\n",
       "      <td>-</td>\n",
       "      <td>ACK</td>\n",
       "      <td>0</td>\n",
       "    </tr>\n",
       "  </tbody>\n",
       "</table>\n",
       "<p>99 rows × 5 columns</p>\n",
       "</div>"
      ],
      "text/plain": [
       "    Serial Number                   Company Name  Employee Markme  \\\n",
       "0   9788189999599                 TALES OF SHIVA             Mark   \n",
       "1   9780099578079      1Q84 THE COMPLETE TRILOGY  HARUKI MURAKAMI   \n",
       "2   9780198082897                       MY KUMAN             Mark   \n",
       "3   9780007880331        THE GOD OF SMAAL THINGS    ARUNDHATI ROY   \n",
       "4   9780545060455               THE BLACK CIRCLE             Mark   \n",
       "..            ...                            ...              ...   \n",
       "94  9788184821536  MORE STORIES FROM THE JATAKAS             Mark   \n",
       "95  9788184821543           MORE TALES OF BIRBAL                -   \n",
       "96  9788184821550         TALES FROM THE JATAKAS                -   \n",
       "97  9788184821567               RAMarkS OF MEWAR                -   \n",
       "98  9788184821574       THE SONS OF THE PANDAVAS                -   \n",
       "\n",
       "           Description  Leave  \n",
       "0                 mark      0  \n",
       "1                 Mark      0  \n",
       "2                 Mark      0  \n",
       "3   4TH HARPER COLLINS      2  \n",
       "4   4TH HARPER COLLINS      0  \n",
       "..                 ...    ...  \n",
       "94                 ACK      0  \n",
       "95                 ACK      0  \n",
       "96                 ACK      0  \n",
       "97                 ACK      0  \n",
       "98                 ACK      0  \n",
       "\n",
       "[99 rows x 5 columns]"
      ]
     },
     "execution_count": 104,
     "metadata": {},
     "output_type": "execute_result"
    }
   ],
   "source": [
    "sample_df"
   ]
  },
  {
   "cell_type": "code",
   "execution_count": 105,
   "metadata": {},
   "outputs": [
    {
     "data": {
      "text/plain": [
       "pandas.core.frame.DataFrame"
      ]
     },
     "execution_count": 105,
     "metadata": {},
     "output_type": "execute_result"
    }
   ],
   "source": [
    "type(sample_df)"
   ]
  },
  {
   "cell_type": "code",
   "execution_count": 109,
   "metadata": {},
   "outputs": [
    {
     "data": {
      "text/html": [
       "<div>\n",
       "<style scoped>\n",
       "    .dataframe tbody tr th:only-of-type {\n",
       "        vertical-align: middle;\n",
       "    }\n",
       "\n",
       "    .dataframe tbody tr th {\n",
       "        vertical-align: top;\n",
       "    }\n",
       "\n",
       "    .dataframe thead th {\n",
       "        text-align: right;\n",
       "    }\n",
       "</style>\n",
       "<table border=\"1\" class=\"dataframe\">\n",
       "  <thead>\n",
       "    <tr style=\"text-align: right;\">\n",
       "      <th></th>\n",
       "      <th>Serial Number</th>\n",
       "      <th>Company Name</th>\n",
       "      <th>Employee Markme</th>\n",
       "      <th>Description</th>\n",
       "      <th>Leave</th>\n",
       "    </tr>\n",
       "  </thead>\n",
       "  <tbody>\n",
       "    <tr>\n",
       "      <th>0</th>\n",
       "      <td>9788189999599</td>\n",
       "      <td>TALES OF SHIVA</td>\n",
       "      <td>Mark</td>\n",
       "      <td>mark</td>\n",
       "      <td>0</td>\n",
       "    </tr>\n",
       "    <tr>\n",
       "      <th>1</th>\n",
       "      <td>9780099578079</td>\n",
       "      <td>1Q84 THE COMPLETE TRILOGY</td>\n",
       "      <td>HARUKI MURAKAMI</td>\n",
       "      <td>Mark</td>\n",
       "      <td>0</td>\n",
       "    </tr>\n",
       "    <tr>\n",
       "      <th>2</th>\n",
       "      <td>9780198082897</td>\n",
       "      <td>MY KUMAN</td>\n",
       "      <td>Mark</td>\n",
       "      <td>Mark</td>\n",
       "      <td>0</td>\n",
       "    </tr>\n",
       "    <tr>\n",
       "      <th>3</th>\n",
       "      <td>9780007880331</td>\n",
       "      <td>THE GOD OF SMAAL THINGS</td>\n",
       "      <td>ARUNDHATI ROY</td>\n",
       "      <td>4TH HARPER COLLINS</td>\n",
       "      <td>2</td>\n",
       "    </tr>\n",
       "    <tr>\n",
       "      <th>4</th>\n",
       "      <td>9780545060455</td>\n",
       "      <td>THE BLACK CIRCLE</td>\n",
       "      <td>Mark</td>\n",
       "      <td>4TH HARPER COLLINS</td>\n",
       "      <td>0</td>\n",
       "    </tr>\n",
       "  </tbody>\n",
       "</table>\n",
       "</div>"
      ],
      "text/plain": [
       "   Serial Number               Company Name  Employee Markme  \\\n",
       "0  9788189999599             TALES OF SHIVA             Mark   \n",
       "1  9780099578079  1Q84 THE COMPLETE TRILOGY  HARUKI MURAKAMI   \n",
       "2  9780198082897                   MY KUMAN             Mark   \n",
       "3  9780007880331    THE GOD OF SMAAL THINGS    ARUNDHATI ROY   \n",
       "4  9780545060455           THE BLACK CIRCLE             Mark   \n",
       "\n",
       "          Description  Leave  \n",
       "0                mark      0  \n",
       "1                Mark      0  \n",
       "2                Mark      0  \n",
       "3  4TH HARPER COLLINS      2  \n",
       "4  4TH HARPER COLLINS      0  "
      ]
     },
     "execution_count": 109,
     "metadata": {},
     "output_type": "execute_result"
    }
   ],
   "source": [
    "(sample_df).head()"
   ]
  },
  {
   "cell_type": "code",
   "execution_count": 110,
   "metadata": {},
   "outputs": [
    {
     "data": {
      "text/html": [
       "<div>\n",
       "<style scoped>\n",
       "    .dataframe tbody tr th:only-of-type {\n",
       "        vertical-align: middle;\n",
       "    }\n",
       "\n",
       "    .dataframe tbody tr th {\n",
       "        vertical-align: top;\n",
       "    }\n",
       "\n",
       "    .dataframe thead th {\n",
       "        text-align: right;\n",
       "    }\n",
       "</style>\n",
       "<table border=\"1\" class=\"dataframe\">\n",
       "  <thead>\n",
       "    <tr style=\"text-align: right;\">\n",
       "      <th></th>\n",
       "      <th>Serial Number</th>\n",
       "      <th>Company Name</th>\n",
       "      <th>Employee Markme</th>\n",
       "      <th>Description</th>\n",
       "      <th>Leave</th>\n",
       "    </tr>\n",
       "  </thead>\n",
       "  <tbody>\n",
       "    <tr>\n",
       "      <th>94</th>\n",
       "      <td>9788184821536</td>\n",
       "      <td>MORE STORIES FROM THE JATAKAS</td>\n",
       "      <td>Mark</td>\n",
       "      <td>ACK</td>\n",
       "      <td>0</td>\n",
       "    </tr>\n",
       "    <tr>\n",
       "      <th>95</th>\n",
       "      <td>9788184821543</td>\n",
       "      <td>MORE TALES OF BIRBAL</td>\n",
       "      <td>-</td>\n",
       "      <td>ACK</td>\n",
       "      <td>0</td>\n",
       "    </tr>\n",
       "    <tr>\n",
       "      <th>96</th>\n",
       "      <td>9788184821550</td>\n",
       "      <td>TALES FROM THE JATAKAS</td>\n",
       "      <td>-</td>\n",
       "      <td>ACK</td>\n",
       "      <td>0</td>\n",
       "    </tr>\n",
       "    <tr>\n",
       "      <th>97</th>\n",
       "      <td>9788184821567</td>\n",
       "      <td>RAMarkS OF MEWAR</td>\n",
       "      <td>-</td>\n",
       "      <td>ACK</td>\n",
       "      <td>0</td>\n",
       "    </tr>\n",
       "    <tr>\n",
       "      <th>98</th>\n",
       "      <td>9788184821574</td>\n",
       "      <td>THE SONS OF THE PANDAVAS</td>\n",
       "      <td>-</td>\n",
       "      <td>ACK</td>\n",
       "      <td>0</td>\n",
       "    </tr>\n",
       "  </tbody>\n",
       "</table>\n",
       "</div>"
      ],
      "text/plain": [
       "    Serial Number                   Company Name Employee Markme Description  \\\n",
       "94  9788184821536  MORE STORIES FROM THE JATAKAS            Mark         ACK   \n",
       "95  9788184821543           MORE TALES OF BIRBAL               -         ACK   \n",
       "96  9788184821550         TALES FROM THE JATAKAS               -         ACK   \n",
       "97  9788184821567               RAMarkS OF MEWAR               -         ACK   \n",
       "98  9788184821574       THE SONS OF THE PANDAVAS               -         ACK   \n",
       "\n",
       "    Leave  \n",
       "94      0  \n",
       "95      0  \n",
       "96      0  \n",
       "97      0  \n",
       "98      0  "
      ]
     },
     "execution_count": 110,
     "metadata": {},
     "output_type": "execute_result"
    }
   ],
   "source": [
    "sample_df.tail()"
   ]
  },
  {
   "cell_type": "code",
   "execution_count": 111,
   "metadata": {},
   "outputs": [
    {
     "data": {
      "text/plain": [
       "(99, 5)"
      ]
     },
     "execution_count": 111,
     "metadata": {},
     "output_type": "execute_result"
    }
   ],
   "source": [
    "sample_df.shape"
   ]
  },
  {
   "cell_type": "code",
   "execution_count": 113,
   "metadata": {},
   "outputs": [
    {
     "data": {
      "text/plain": [
       "array([[9788189999599, 'TALES OF SHIVA', 'Mark', 'mark', 0],\n",
       "       [9780099578079, '1Q84 THE COMPLETE TRILOGY', 'HARUKI MURAKAMI',\n",
       "        'Mark', 0],\n",
       "       [9780198082897, 'MY KUMAN', 'Mark', 'Mark', 0],\n",
       "       [9780007880331, 'THE GOD OF SMAAL THINGS', 'ARUNDHATI ROY',\n",
       "        '4TH HARPER COLLINS', 2],\n",
       "       [9780545060455, 'THE BLACK CIRCLE', 'Mark', '4TH HARPER COLLINS',\n",
       "        0],\n",
       "       [9788126525072, 'THE THREE LAWS OF PERFORMANCE', 'Mark',\n",
       "        '4TH HARPER COLLINS', 0],\n",
       "       [9789381626610, 'CHAMarkKYA MANTRA', 'Mark', '4TH HARPER COLLINS',\n",
       "        0],\n",
       "       [9788184513523, '59.FLAGS', 'Mark', '4TH HARPER COLLINS', 0],\n",
       "       [9780743234801, 'THE POWER OF POSITIVE THINKING FROM', 'Mark',\n",
       "        'A & A PUBLISHER', 0],\n",
       "       [9789381529621, 'YOU CAN IF YO THINK YO CAN', 'PEALE',\n",
       "        'A & A PUBLISHER', 0],\n",
       "       [9788183223966, 'DONGRI SE DUBAI TAK (MPH)', 'Mark',\n",
       "        'A & A PUBLISHER', 0],\n",
       "       [9788187776005, 'MarkLANDA ADYTAN KOSH', 'Mark',\n",
       "        'AADISH BOOK DEPOT', 0],\n",
       "       [9788187776013, 'MarkLANDA VISHAL SHABD SAGAR', '-',\n",
       "        'AADISH BOOK DEPOT', 1],\n",
       "       [8187776021, 'MarkLANDA CONCISE DICT(ENG TO HINDI)', 'Mark',\n",
       "        'AADISH BOOK DEPOT', 0],\n",
       "       [9789384716165,\n",
       "        'LIEUTEMarkMarkT GENERAL BHAGAT: A SAGA OF BRAVERY AND LEADERSHIP',\n",
       "        'Mark', 'AAM COMICS', 2],\n",
       "       [9789384716233, 'LN. MarkIK SUNDER SINGH', 'N.A', 'AAN COMICS', 0],\n",
       "       [9789384850319, 'I AM KRISHMark', 'DEEP TRIVEDI',\n",
       "        'AATMAN INNOVATIONS PVT LTD', 1],\n",
       "       [9789384850357, \"DON'T TEACH ME TOLERANCE INDIA\", 'DEEP TRIVEDI',\n",
       "        'AATMAN INNOVATIONS PVT LTD', 0],\n",
       "       [9789384850364, 'MUJHE SAHISHNUTA MAT SIKHAO BHARAT',\n",
       "        'DEEP TRIVEDI', 'AATMAN INNOVATIONS PVT LTD', 0],\n",
       "       [9789384850746, 'SECRETS OF DESTINY', 'DEEP TRIVEDI',\n",
       "        'AATMAN INNOVATIONS PVT LTD', 1],\n",
       "       [9789384850753, 'BHAGYA KE RAHASYA (HINDI) SECRET OF DESTINY',\n",
       "        'DEEP TRIVEDI', 'AATMAN INNOVATIONS PVT LTD', 1],\n",
       "       [9788192669038, 'MEIN MANN HOON', 'DEEP TRIVEDI',\n",
       "        'AATMAN INNOVATIONS PVT LTD', 0],\n",
       "       [9789384850098, 'I AM THE MIND', 'DEEP TRIVEDI',\n",
       "        'AATMARAM & SONS', 0],\n",
       "       [9780349121420, 'THE ART OF CHOOSING', 'SHEEMark IYENGAR',\n",
       "        'ABACUS', 0],\n",
       "       [9780349123462, 'IN SPITE OF THE GODS', 'EDWARD LUCE', 'ABACUS',\n",
       "        1],\n",
       "       [9788188440061, 'QUESTIONS & ANWERS ABOUT THE GREAT BIBLE',\n",
       "        'Mark', 'ABC PUBLISHERS DISTRIBUTORS', 4],\n",
       "       [9789382088189, 'NIBANDH EVAM KAHANI LEKHAN { HINDI }', 'Mark',\n",
       "        'ABHI BOOKS', 1],\n",
       "       [9789332703759, 'INDIAN ECONOMY SINCE INDEPENDENCE 27TH /E',\n",
       "        'UMA KAPILA', 'ACADEMIC FOUNDATION', 1],\n",
       "       [9788171888016, 'ECONOMIC DEVELOPMENT AND POLICY IN INDIA',\n",
       "        'UMA KAPILA', 'ACADEMIC FOUNDATION', 1],\n",
       "       [9789332704343, 'INDIAN ECONOMY PERFORMANCE 18TH/E  2017-2018',\n",
       "        'UMA KAPILA', 'ACADEMIC FOUNDATION', 2],\n",
       "       [9789332703735,\n",
       "        'INDIAN ECONOMIC DEVELOPMENTSINCE 1947 (NO RETURMarkBLE)',\n",
       "        'UMA KAPILA', 'ACADEMIC FOUNDATION', 1],\n",
       "       [9789383454143,\n",
       "        'PRELIMS SPECIAL READING COMPREHENSION PAPER II CSAT',\n",
       "        'MarkGENDRA PRATAP', 'ACCESS PUBLISHING INDIA PVT.LTD', 0],\n",
       "       [9789383454204, 'THE CONSTITUTION OF INDIA 2ND / E', 'AR KHAN',\n",
       "        'ACCESS PUBLISHING INDIA PVT.LTD', 10],\n",
       "       [9789386361011, 'INDIAN HERITAGE ,ART & CULTURE', 'MADHUKAR',\n",
       "        'ACCESS PUBLISHING INDIA PVT.LTD', 10],\n",
       "       [9789383454303, 'BHARAT KA SAMVIDHAN', 'AR KHAN',\n",
       "        'ACCESS PUBLISHING INDIA PVT.LTD', 4],\n",
       "       [9789383454471, 'ETHICS, INTEGRITY & APTITUDE ( 3RD/E)',\n",
       "        'P N ROY ,G SUBBA RAO', 'ACCESS PUBLISHING INDIA PVT.LTD', 10],\n",
       "       [9789383454563, 'GENERAL STUDIES PAPER -- I (2016)', 'Mark',\n",
       "        'ACCESS PUBLISHING INDIA PVT.LTD', 0],\n",
       "       [9789383454570, 'GENERAL STUDIES PAPER - II (2016)', 'Mark',\n",
       "        'ACCESS PUBLISHING INDIA PVT.LTD', 0],\n",
       "       [9789383454693, 'INDIAN AND WORLD GEOGRAPHY 2E', 'D R KHULLAR',\n",
       "        'ACCESS PUBLISHING INDIA PVT.LTD', 10],\n",
       "       [9789383454709, 'VASTUNISTHA PRASHN SANGRAHA: BHARAT KA ITIHAS',\n",
       "        'MEEMarkKSHI KANT', 'ACCESS PUBLISHING INDIA PVT.LTD', 0],\n",
       "       [9789383454723, 'PHYSICAL, HUMAN AND ECONOMIC GEOGRAPHY',\n",
       "        'D R KHULLAR', 'ACCESS PUBLISHING INDIA PVT.LTD', 4],\n",
       "       [9789383454730, 'WORLD GEOGRAPHY', 'DR KHULLAR',\n",
       "        'ACCESS PUBLISHING INDIA PVT.LTD', 5],\n",
       "       [9789383454822, 'INDIA: MAP ENTRIES IN GEOGRAPHY', 'MAJID HUSAIN',\n",
       "        'ACCESS PUBLISHING INDIA PVT.LTD', 5],\n",
       "       [9789383454853, 'GOOD GOVERMarkNCE IN INDIA 2/ED.', 'G SUBBA RAO',\n",
       "        'ACCESS PUBLISHING INDIA PVT.LTD', 1],\n",
       "       [9789383454884,\n",
       "        'KAMYABI KE SUTRA-CIVIL SEWA PARIKSHA AAP KI MUTTHI MEIN',\n",
       "        'ASHOK KUMAR', 'ACCESS PUBLISHING INDIA PVT.LTD', 0],\n",
       "       [9789383454891, 'GENERAL SCIENCE PRELIRY EXAM', 'Mark',\n",
       "        'ACCESS PUBLISHING INDIA PVT.LTD', 0],\n",
       "       [9781742860190, 'SUCCESS AND DYSLEXIA', 'SUCCESS AND DYSLEXIA',\n",
       "        'ACER PRESS', 0],\n",
       "       [9781742860114, 'AN EXTRAORDIMarkRY SCHOOL', 'SARA JAMES',\n",
       "        'ACER PRESS', 0],\n",
       "       [9781742861463, 'POWERFUL PRACTICES FOR READING IMPROVEMENT',\n",
       "        'GLASSWELL', 'ACER PRESS', 0],\n",
       "       [9781742862859, 'EARLY CHILDHOOD PLAY MATTERS', 'SHOMark BASS',\n",
       "        'ACER PRESS', 0],\n",
       "       [9781742863641, 'LEADING LEARNING AND TEACHING', 'STEPHEN DINHAM',\n",
       "        'ACER PRESS', 0],\n",
       "       [9781742863658, 'READING AND LEARNING DIFFICULTIES',\n",
       "        'PETER WESTWOOD', 'ACER PRESS', 0],\n",
       "       [9781742863665, 'NUMERACY AND LEARNING DIFFICULTIES',\n",
       "        'PETER WOODLAND]', 'ACER PRESS', 0],\n",
       "       [9781742863771, 'TEACHING AND LEARNING DIFFICULTIES',\n",
       "        'PETER WOODLAND', 'ACER PRESS', 0],\n",
       "       [9781742861678, 'USING DATA TO IMPROVE LEARNING',\n",
       "        'ANTHONY SHADDOCK', 'ACER PRESS', 0],\n",
       "       [9781742862484, 'PATHWAYS TO SCHOOL SYSTEM IMPROVEMENT',\n",
       "        'MICHAEL GAFFNEY', 'ACER PRESS', 0],\n",
       "       [9781742860176, 'FOR THOSE WHO TEACH', 'PHIL RIDDEN',\n",
       "        'ACER PRESS', 0],\n",
       "       [9781742860213, 'KEYS TO SCHOOL LEADERSHIP',\n",
       "        'PHIL RIDDEN & JOHN DE NOBILE', 'ACER PRESS', 0],\n",
       "       [9781742860220, 'DIVERSE LITERACIES IN EARLY CHILDHOOD',\n",
       "        'LEONIE ARTHUR', 'ACER PRESS', 0],\n",
       "       [9781742860237, 'CREATIVE ARTS IN THE LIVESOF YOUNG CHILDREN',\n",
       "        'ROBYN EWING', 'ACER PRESS', 0],\n",
       "       [9781742860336, 'SOCIAL AND EMOTIOMarkL DEVELOPMENT',\n",
       "        'ROS LEYDEN AND ERIN SHALE', 'ACER PRESS', 0],\n",
       "       [9781742860343, 'DISCUSSIONS IN SCIENCE', 'TIM SPROD',\n",
       "        'ACER PRESS', 0],\n",
       "       [9781742860404, 'YOUNG CHILDREN LEARNING MATHEMATICS',\n",
       "        'ROBERT HUNTING', 'ACER PRESS', 0],\n",
       "       [9781742860626, 'COACHING CHILDREN', 'KELLY SUMICH', 'ACER PRESS',\n",
       "        1],\n",
       "       [9781742860923,\n",
       "        'TEACHING PHYSICAL EDUCATIOMarkL IN PRIMARY SCHOOL',\n",
       "        'JANET L CURRIE', 'ACER PRESS', 0],\n",
       "       [9781742861111, 'ASSESSMENT AND REPORTING',\n",
       "        'PHIL RIDDEN AND SANDY', 'ACER PRESS', 0],\n",
       "       [9781742861302, 'COLLABORATION IN LEARNING',\n",
       "        'MAL LEE AND LORRAE WARD', 'ACER PRESS', 0],\n",
       "       [9780864315250, 'RE-IMAGINING EDUCATIMarkL LEADERSHIP',\n",
       "        'BRIAN J.CALDWELL', 'ACER PRESS', 0],\n",
       "       [9780864317025, 'TOWARDS A MOVING SCHOOL', 'FLEMING & KLEINHENZ',\n",
       "        'ACER PRESS', 0],\n",
       "       [9780864317230, 'DESINGNING A THINKING A CURRICULAM',\n",
       "        'SUSAN WILKS', 'ACER PRESS', 0],\n",
       "       [9780864318961, 'LEADING A DIGITAL SCHOOL',\n",
       "        'MAL LEE AND MICHEAL GAFFNEY', 'ACER PRESS', 0],\n",
       "       [9780864319043, 'NUMERACY', 'WESTWOOD', 'ACER PRESS', 0],\n",
       "       [9780864319203, 'TEACHING ORAL LANGUAGE', 'JOHN MUNRO',\n",
       "        'ACER PRESS', 0],\n",
       "       [9780864319449, 'SPELLING', 'WESTWOOD', 'ACER PRESS', 0],\n",
       "       [9788189999803, 'STORIES OF SHIVA', 'Mark', 'ACK', 0],\n",
       "       [9788189999988, 'JAMSET  JI TATA: THE MAN WHO SAW TOMORROW', nan,\n",
       "        'ACK', 0],\n",
       "       [9788184820355, 'HEROES FROM THE MAHABHARTA { 5-IN-1 }', 'Mark',\n",
       "        'ACK', 0],\n",
       "       [9788184820553, 'SURYA', nan, 'ACK', 0],\n",
       "       [9788184820645, 'TALES OF THE MOTHER GODDESS', '-', 'ACK', 0],\n",
       "       [9788184820652, 'ADVENTURES OF KRISHMark', 'Mark', 'ACK', 0],\n",
       "       [9788184822113, 'MAHATMA GANDHI', 'Mark', 'ACK', 1],\n",
       "       [9788184822120, 'TALES FROM THE PANCHATANTRA 3-IN-1', '-', 'ACK',\n",
       "        0],\n",
       "       [9788184821482, 'YET MORE TALES FROM THE JATAKAS { 3-IN-1 }',\n",
       "        'AMarkNT PAI', 'ACK', 0],\n",
       "       [9788184825763, 'LEGENDARY RULERS OF INDIA', '-', 'ACK', 0],\n",
       "       [9788184825862, 'GREAT INDIAN CLASSIC', 'Mark', 'ACK', 0],\n",
       "       [9788184823219, \"TULSIDAS ' RAMAYAMark\", 'Mark', 'ACK', 0],\n",
       "       [9788184820782, 'TALES OF HANUMAN', '-', 'ACK', 0],\n",
       "       [9788184820089, \"VALMIKI'S RAMAYAMark\", 'A C K', 'ACK', 1],\n",
       "       [9788184825213, 'THE BEST OF INIDAN WIT AND WISDOM', 'Mark',\n",
       "        'ACK', 0],\n",
       "       [9788184820997, 'MORE TALES FROM THE PANCHTANTRA', 'AMarkNT PAL',\n",
       "        'ACK', 0],\n",
       "       [9788184824018, 'THE GREAT MUGHALS {5-IN-1}', 'AMarkNT.', 'ACK',\n",
       "        0],\n",
       "       [9788184824049, 'FAMOUS SCIENTISTS', 'Mark', 'ACK', 0],\n",
       "       [9788184825978, 'KOMarkRK', 'Mark', 'ACK', 0],\n",
       "       [9788184826098, 'THE MUGHAL COURT', 'REEMark', 'ACK', 0],\n",
       "       [9788184821536, 'MORE STORIES FROM THE JATAKAS', 'Mark', 'ACK', 0],\n",
       "       [9788184821543, 'MORE TALES OF BIRBAL', '-', 'ACK', 0],\n",
       "       [9788184821550, 'TALES FROM THE JATAKAS', '-', 'ACK', 0],\n",
       "       [9788184821567, 'RAMarkS OF MEWAR', '-', 'ACK', 0],\n",
       "       [9788184821574, 'THE SONS OF THE PANDAVAS', '-', 'ACK', 0]],\n",
       "      dtype=object)"
      ]
     },
     "execution_count": 113,
     "metadata": {},
     "output_type": "execute_result"
    }
   ],
   "source": [
    "sample_df.values"
   ]
  },
  {
   "cell_type": "code",
   "execution_count": 114,
   "metadata": {},
   "outputs": [
    {
     "data": {
      "text/plain": [
       "Index(['Serial Number', 'Company Name', 'Employee Markme', 'Description',\n",
       "       'Leave'],\n",
       "      dtype='object')"
      ]
     },
     "execution_count": 114,
     "metadata": {},
     "output_type": "execute_result"
    }
   ],
   "source": [
    "sample_df.columns"
   ]
  },
  {
   "cell_type": "code",
   "execution_count": 118,
   "metadata": {},
   "outputs": [
    {
     "ename": "KeyError",
     "evalue": "\"None of ['Serial Number'] are in the columns\"",
     "output_type": "error",
     "traceback": [
      "\u001b[1;31m---------------------------------------------------------------------------\u001b[0m",
      "\u001b[1;31mKeyError\u001b[0m                                  Traceback (most recent call last)",
      "\u001b[1;32m<ipython-input-118-0ce056296f2a>\u001b[0m in \u001b[0;36m<module>\u001b[1;34m\u001b[0m\n\u001b[1;32m----> 1\u001b[1;33m \u001b[0msample_df\u001b[0m\u001b[1;33m.\u001b[0m\u001b[0mset_index\u001b[0m\u001b[1;33m(\u001b[0m\u001b[1;34m'Serial Number'\u001b[0m\u001b[1;33m,\u001b[0m\u001b[0minplace\u001b[0m\u001b[1;33m=\u001b[0m\u001b[1;32mFalse\u001b[0m\u001b[1;33m)\u001b[0m\u001b[1;33m\u001b[0m\u001b[1;33m\u001b[0m\u001b[0m\n\u001b[0m\u001b[0;32m      2\u001b[0m \u001b[0msample_df\u001b[0m\u001b[1;33m\u001b[0m\u001b[1;33m\u001b[0m\u001b[0m\n",
      "\u001b[1;32m~\\anaconda3\\lib\\site-packages\\pandas\\core\\frame.py\u001b[0m in \u001b[0;36mset_index\u001b[1;34m(self, keys, drop, append, inplace, verify_integrity)\u001b[0m\n\u001b[0;32m   4301\u001b[0m \u001b[1;33m\u001b[0m\u001b[0m\n\u001b[0;32m   4302\u001b[0m         \u001b[1;32mif\u001b[0m \u001b[0mmissing\u001b[0m\u001b[1;33m:\u001b[0m\u001b[1;33m\u001b[0m\u001b[1;33m\u001b[0m\u001b[0m\n\u001b[1;32m-> 4303\u001b[1;33m             \u001b[1;32mraise\u001b[0m \u001b[0mKeyError\u001b[0m\u001b[1;33m(\u001b[0m\u001b[1;34mf\"None of {missing} are in the columns\"\u001b[0m\u001b[1;33m)\u001b[0m\u001b[1;33m\u001b[0m\u001b[1;33m\u001b[0m\u001b[0m\n\u001b[0m\u001b[0;32m   4304\u001b[0m \u001b[1;33m\u001b[0m\u001b[0m\n\u001b[0;32m   4305\u001b[0m         \u001b[1;32mif\u001b[0m \u001b[0minplace\u001b[0m\u001b[1;33m:\u001b[0m\u001b[1;33m\u001b[0m\u001b[1;33m\u001b[0m\u001b[0m\n",
      "\u001b[1;31mKeyError\u001b[0m: \"None of ['Serial Number'] are in the columns\""
     ]
    }
   ],
   "source": [
    "sample_df.set_index('Serial Number',inplace=False)\n",
    "sample_df"
   ]
  },
  {
   "cell_type": "code",
   "execution_count": 119,
   "metadata": {},
   "outputs": [
    {
     "data": {
      "text/html": [
       "<div>\n",
       "<style scoped>\n",
       "    .dataframe tbody tr th:only-of-type {\n",
       "        vertical-align: middle;\n",
       "    }\n",
       "\n",
       "    .dataframe tbody tr th {\n",
       "        vertical-align: top;\n",
       "    }\n",
       "\n",
       "    .dataframe thead th {\n",
       "        text-align: right;\n",
       "    }\n",
       "</style>\n",
       "<table border=\"1\" class=\"dataframe\">\n",
       "  <thead>\n",
       "    <tr style=\"text-align: right;\">\n",
       "      <th></th>\n",
       "      <th>Company Name</th>\n",
       "      <th>Employee Markme</th>\n",
       "      <th>Description</th>\n",
       "      <th>Leave</th>\n",
       "    </tr>\n",
       "    <tr>\n",
       "      <th>Serial Number</th>\n",
       "      <th></th>\n",
       "      <th></th>\n",
       "      <th></th>\n",
       "      <th></th>\n",
       "    </tr>\n",
       "  </thead>\n",
       "  <tbody>\n",
       "    <tr>\n",
       "      <th>8187776021</th>\n",
       "      <td>MarkLANDA CONCISE DICT(ENG TO HINDI)</td>\n",
       "      <td>Mark</td>\n",
       "      <td>AADISH BOOK DEPOT</td>\n",
       "      <td>0</td>\n",
       "    </tr>\n",
       "    <tr>\n",
       "      <th>9780007880331</th>\n",
       "      <td>THE GOD OF SMAAL THINGS</td>\n",
       "      <td>ARUNDHATI ROY</td>\n",
       "      <td>4TH HARPER COLLINS</td>\n",
       "      <td>2</td>\n",
       "    </tr>\n",
       "    <tr>\n",
       "      <th>9780099578079</th>\n",
       "      <td>1Q84 THE COMPLETE TRILOGY</td>\n",
       "      <td>HARUKI MURAKAMI</td>\n",
       "      <td>Mark</td>\n",
       "      <td>0</td>\n",
       "    </tr>\n",
       "    <tr>\n",
       "      <th>9780198082897</th>\n",
       "      <td>MY KUMAN</td>\n",
       "      <td>Mark</td>\n",
       "      <td>Mark</td>\n",
       "      <td>0</td>\n",
       "    </tr>\n",
       "    <tr>\n",
       "      <th>9780349121420</th>\n",
       "      <td>THE ART OF CHOOSING</td>\n",
       "      <td>SHEEMark IYENGAR</td>\n",
       "      <td>ABACUS</td>\n",
       "      <td>0</td>\n",
       "    </tr>\n",
       "    <tr>\n",
       "      <th>...</th>\n",
       "      <td>...</td>\n",
       "      <td>...</td>\n",
       "      <td>...</td>\n",
       "      <td>...</td>\n",
       "    </tr>\n",
       "    <tr>\n",
       "      <th>9789384850357</th>\n",
       "      <td>DON'T TEACH ME TOLERANCE INDIA</td>\n",
       "      <td>DEEP TRIVEDI</td>\n",
       "      <td>AATMAN INNOVATIONS PVT LTD</td>\n",
       "      <td>0</td>\n",
       "    </tr>\n",
       "    <tr>\n",
       "      <th>9789384850364</th>\n",
       "      <td>MUJHE SAHISHNUTA MAT SIKHAO BHARAT</td>\n",
       "      <td>DEEP TRIVEDI</td>\n",
       "      <td>AATMAN INNOVATIONS PVT LTD</td>\n",
       "      <td>0</td>\n",
       "    </tr>\n",
       "    <tr>\n",
       "      <th>9789384850746</th>\n",
       "      <td>SECRETS OF DESTINY</td>\n",
       "      <td>DEEP TRIVEDI</td>\n",
       "      <td>AATMAN INNOVATIONS PVT LTD</td>\n",
       "      <td>1</td>\n",
       "    </tr>\n",
       "    <tr>\n",
       "      <th>9789384850753</th>\n",
       "      <td>BHAGYA KE RAHASYA (HINDI) SECRET OF DESTINY</td>\n",
       "      <td>DEEP TRIVEDI</td>\n",
       "      <td>AATMAN INNOVATIONS PVT LTD</td>\n",
       "      <td>1</td>\n",
       "    </tr>\n",
       "    <tr>\n",
       "      <th>9789386361011</th>\n",
       "      <td>INDIAN HERITAGE ,ART &amp; CULTURE</td>\n",
       "      <td>MADHUKAR</td>\n",
       "      <td>ACCESS PUBLISHING INDIA PVT.LTD</td>\n",
       "      <td>10</td>\n",
       "    </tr>\n",
       "  </tbody>\n",
       "</table>\n",
       "<p>99 rows × 4 columns</p>\n",
       "</div>"
      ],
      "text/plain": [
       "                                              Company Name   Employee Markme  \\\n",
       "Serial Number                                                                  \n",
       "8187776021            MarkLANDA CONCISE DICT(ENG TO HINDI)              Mark   \n",
       "9780007880331                      THE GOD OF SMAAL THINGS     ARUNDHATI ROY   \n",
       "9780099578079                    1Q84 THE COMPLETE TRILOGY   HARUKI MURAKAMI   \n",
       "9780198082897                                     MY KUMAN              Mark   \n",
       "9780349121420                          THE ART OF CHOOSING  SHEEMark IYENGAR   \n",
       "...                                                    ...               ...   \n",
       "9789384850357               DON'T TEACH ME TOLERANCE INDIA      DEEP TRIVEDI   \n",
       "9789384850364           MUJHE SAHISHNUTA MAT SIKHAO BHARAT      DEEP TRIVEDI   \n",
       "9789384850746                           SECRETS OF DESTINY      DEEP TRIVEDI   \n",
       "9789384850753  BHAGYA KE RAHASYA (HINDI) SECRET OF DESTINY      DEEP TRIVEDI   \n",
       "9789386361011               INDIAN HERITAGE ,ART & CULTURE          MADHUKAR   \n",
       "\n",
       "                                   Description  Leave  \n",
       "Serial Number                                          \n",
       "8187776021                   AADISH BOOK DEPOT      0  \n",
       "9780007880331               4TH HARPER COLLINS      2  \n",
       "9780099578079                             Mark      0  \n",
       "9780198082897                             Mark      0  \n",
       "9780349121420                           ABACUS      0  \n",
       "...                                        ...    ...  \n",
       "9789384850357       AATMAN INNOVATIONS PVT LTD      0  \n",
       "9789384850364       AATMAN INNOVATIONS PVT LTD      0  \n",
       "9789384850746       AATMAN INNOVATIONS PVT LTD      1  \n",
       "9789384850753       AATMAN INNOVATIONS PVT LTD      1  \n",
       "9789386361011  ACCESS PUBLISHING INDIA PVT.LTD     10  \n",
       "\n",
       "[99 rows x 4 columns]"
      ]
     },
     "execution_count": 119,
     "metadata": {},
     "output_type": "execute_result"
    }
   ],
   "source": [
    "sample_df.sort_index(ascending=True)"
   ]
  },
  {
   "cell_type": "code",
   "execution_count": 120,
   "metadata": {},
   "outputs": [
    {
     "data": {
      "text/html": [
       "<div>\n",
       "<style scoped>\n",
       "    .dataframe tbody tr th:only-of-type {\n",
       "        vertical-align: middle;\n",
       "    }\n",
       "\n",
       "    .dataframe tbody tr th {\n",
       "        vertical-align: top;\n",
       "    }\n",
       "\n",
       "    .dataframe thead th {\n",
       "        text-align: right;\n",
       "    }\n",
       "</style>\n",
       "<table border=\"1\" class=\"dataframe\">\n",
       "  <thead>\n",
       "    <tr style=\"text-align: right;\">\n",
       "      <th></th>\n",
       "      <th>Company Name</th>\n",
       "      <th>Employee Markme</th>\n",
       "      <th>Description</th>\n",
       "      <th>Leave</th>\n",
       "    </tr>\n",
       "    <tr>\n",
       "      <th>Serial Number</th>\n",
       "      <th></th>\n",
       "      <th></th>\n",
       "      <th></th>\n",
       "      <th></th>\n",
       "    </tr>\n",
       "  </thead>\n",
       "  <tbody>\n",
       "    <tr>\n",
       "      <th>9789386361011</th>\n",
       "      <td>INDIAN HERITAGE ,ART &amp; CULTURE</td>\n",
       "      <td>MADHUKAR</td>\n",
       "      <td>ACCESS PUBLISHING INDIA PVT.LTD</td>\n",
       "      <td>10</td>\n",
       "    </tr>\n",
       "    <tr>\n",
       "      <th>9789384850753</th>\n",
       "      <td>BHAGYA KE RAHASYA (HINDI) SECRET OF DESTINY</td>\n",
       "      <td>DEEP TRIVEDI</td>\n",
       "      <td>AATMAN INNOVATIONS PVT LTD</td>\n",
       "      <td>1</td>\n",
       "    </tr>\n",
       "    <tr>\n",
       "      <th>9789384850746</th>\n",
       "      <td>SECRETS OF DESTINY</td>\n",
       "      <td>DEEP TRIVEDI</td>\n",
       "      <td>AATMAN INNOVATIONS PVT LTD</td>\n",
       "      <td>1</td>\n",
       "    </tr>\n",
       "    <tr>\n",
       "      <th>9789384850364</th>\n",
       "      <td>MUJHE SAHISHNUTA MAT SIKHAO BHARAT</td>\n",
       "      <td>DEEP TRIVEDI</td>\n",
       "      <td>AATMAN INNOVATIONS PVT LTD</td>\n",
       "      <td>0</td>\n",
       "    </tr>\n",
       "    <tr>\n",
       "      <th>9789384850357</th>\n",
       "      <td>DON'T TEACH ME TOLERANCE INDIA</td>\n",
       "      <td>DEEP TRIVEDI</td>\n",
       "      <td>AATMAN INNOVATIONS PVT LTD</td>\n",
       "      <td>0</td>\n",
       "    </tr>\n",
       "    <tr>\n",
       "      <th>...</th>\n",
       "      <td>...</td>\n",
       "      <td>...</td>\n",
       "      <td>...</td>\n",
       "      <td>...</td>\n",
       "    </tr>\n",
       "    <tr>\n",
       "      <th>9780349121420</th>\n",
       "      <td>THE ART OF CHOOSING</td>\n",
       "      <td>SHEEMark IYENGAR</td>\n",
       "      <td>ABACUS</td>\n",
       "      <td>0</td>\n",
       "    </tr>\n",
       "    <tr>\n",
       "      <th>9780198082897</th>\n",
       "      <td>MY KUMAN</td>\n",
       "      <td>Mark</td>\n",
       "      <td>Mark</td>\n",
       "      <td>0</td>\n",
       "    </tr>\n",
       "    <tr>\n",
       "      <th>9780099578079</th>\n",
       "      <td>1Q84 THE COMPLETE TRILOGY</td>\n",
       "      <td>HARUKI MURAKAMI</td>\n",
       "      <td>Mark</td>\n",
       "      <td>0</td>\n",
       "    </tr>\n",
       "    <tr>\n",
       "      <th>9780007880331</th>\n",
       "      <td>THE GOD OF SMAAL THINGS</td>\n",
       "      <td>ARUNDHATI ROY</td>\n",
       "      <td>4TH HARPER COLLINS</td>\n",
       "      <td>2</td>\n",
       "    </tr>\n",
       "    <tr>\n",
       "      <th>8187776021</th>\n",
       "      <td>MarkLANDA CONCISE DICT(ENG TO HINDI)</td>\n",
       "      <td>Mark</td>\n",
       "      <td>AADISH BOOK DEPOT</td>\n",
       "      <td>0</td>\n",
       "    </tr>\n",
       "  </tbody>\n",
       "</table>\n",
       "<p>99 rows × 4 columns</p>\n",
       "</div>"
      ],
      "text/plain": [
       "                                              Company Name   Employee Markme  \\\n",
       "Serial Number                                                                  \n",
       "9789386361011               INDIAN HERITAGE ,ART & CULTURE          MADHUKAR   \n",
       "9789384850753  BHAGYA KE RAHASYA (HINDI) SECRET OF DESTINY      DEEP TRIVEDI   \n",
       "9789384850746                           SECRETS OF DESTINY      DEEP TRIVEDI   \n",
       "9789384850364           MUJHE SAHISHNUTA MAT SIKHAO BHARAT      DEEP TRIVEDI   \n",
       "9789384850357               DON'T TEACH ME TOLERANCE INDIA      DEEP TRIVEDI   \n",
       "...                                                    ...               ...   \n",
       "9780349121420                          THE ART OF CHOOSING  SHEEMark IYENGAR   \n",
       "9780198082897                                     MY KUMAN              Mark   \n",
       "9780099578079                    1Q84 THE COMPLETE TRILOGY   HARUKI MURAKAMI   \n",
       "9780007880331                      THE GOD OF SMAAL THINGS     ARUNDHATI ROY   \n",
       "8187776021            MarkLANDA CONCISE DICT(ENG TO HINDI)              Mark   \n",
       "\n",
       "                                   Description  Leave  \n",
       "Serial Number                                          \n",
       "9789386361011  ACCESS PUBLISHING INDIA PVT.LTD     10  \n",
       "9789384850753       AATMAN INNOVATIONS PVT LTD      1  \n",
       "9789384850746       AATMAN INNOVATIONS PVT LTD      1  \n",
       "9789384850364       AATMAN INNOVATIONS PVT LTD      0  \n",
       "9789384850357       AATMAN INNOVATIONS PVT LTD      0  \n",
       "...                                        ...    ...  \n",
       "9780349121420                           ABACUS      0  \n",
       "9780198082897                             Mark      0  \n",
       "9780099578079                             Mark      0  \n",
       "9780007880331               4TH HARPER COLLINS      2  \n",
       "8187776021                   AADISH BOOK DEPOT      0  \n",
       "\n",
       "[99 rows x 4 columns]"
      ]
     },
     "execution_count": 120,
     "metadata": {},
     "output_type": "execute_result"
    }
   ],
   "source": [
    "sample_df.sort_index(ascending=False)"
   ]
  }
 ],
 "metadata": {
  "kernelspec": {
   "display_name": "Python 3",
   "language": "python",
   "name": "python3"
  },
  "language_info": {
   "codemirror_mode": {
    "name": "ipython",
    "version": 3
   },
   "file_extension": ".py",
   "mimetype": "text/x-python",
   "name": "python",
   "nbconvert_exporter": "python",
   "pygments_lexer": "ipython3",
   "version": "3.8.3"
  }
 },
 "nbformat": 4,
 "nbformat_minor": 4
}
